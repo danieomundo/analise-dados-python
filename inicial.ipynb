{
 "cells": [
  {
   "cell_type": "markdown",
   "metadata": {},
   "source": [
    "# Analisando dados com Python\n",
    "\n",
    "## Case - Cancelamento de clientes\n",
    "\n",
    "\n"
   ]
  },
  {
   "cell_type": "code",
   "execution_count": 62,
   "metadata": {},
   "outputs": [],
   "source": [
    "# Passo 1: importar base de dados\n",
    "\n",
    "import pandas as pd \n",
    "\n",
    "tabela = pd.read_csv(\"cancelamentos_sample.csv\")  "
   ]
  },
  {
   "cell_type": "code",
   "execution_count": null,
   "metadata": {},
   "outputs": [],
   "source": [
    "# Passo 2: visualizar a base de dados\n",
    "\n",
    "tabela = tabela.drop(columns=\"CustomerID\")\n",
    "display(tabela)"
   ]
  },
  {
   "cell_type": "code",
   "execution_count": null,
   "metadata": {},
   "outputs": [],
   "source": [
    "# Passo 3: correção de erros e tratamento de dados\n",
    "\n",
    "display(tabela.info())\n",
    "\n",
    "tabela = tabela.dropna()  # dropna exclui linhas que possuem algum valor vazio"
   ]
  },
  {
   "cell_type": "code",
   "execution_count": null,
   "metadata": {},
   "outputs": [],
   "source": [
    "# Passo 4: análise inicial dos cancelamentos\n",
    "# percentual de quantas pessoas cancelaram e quantas não cancelaram \n",
    "\n",
    "display(tabela[\"cancelou\"].value_counts())\n",
    "\n",
    "# em percentual\n",
    "\n",
    "display(tabela[\"cancelou\"].value_counts(normalize=True))"
   ]
  },
  {
   "cell_type": "code",
   "execution_count": null,
   "metadata": {},
   "outputs": [],
   "source": [
    "# Passo 5: análise das causas dos cancelamentos\n",
    "\n",
    "# display(tabela)\n",
    "\n",
    "import plotly.express as px \n",
    "\n",
    "for coluna in tabela.columns:\n",
    "    grafico = px.histogram(tabela,x=coluna, color=\"cancelou\")\n",
    "    grafico.show()"
   ]
  },
  {
   "cell_type": "code",
   "execution_count": 102,
   "metadata": {},
   "outputs": [
    {
     "data": {
      "text/plain": [
       "cancelou\n",
       "0.0    21446\n",
       "1.0     4821\n",
       "Name: count, dtype: int64"
      ]
     },
     "metadata": {},
     "output_type": "display_data"
    },
    {
     "data": {
      "text/plain": [
       "cancelou\n",
       "0.0    0.816462\n",
       "1.0    0.183538\n",
       "Name: proportion, dtype: float64"
      ]
     },
     "metadata": {},
     "output_type": "display_data"
    }
   ],
   "source": [
    "# Análise qualitativa dos gráficos:\n",
    "\n",
    "'''\n",
    "Padrão de cancelamento:\n",
    "\n",
    "1. Todos os clientes que possuem assinatura mensal\n",
    "Solução: oferecer desconto nos planos anuais e trimestrais.\n",
    "\n",
    "2. Clientes que ligam mais de 4 vezes para o call center\n",
    "Solução: resolução do problema em no máximo 3 ligações.\n",
    "\n",
    "3. Clientes que atrasam mais de 20 dias\n",
    "Solução: política de resolução de atrasos em até 10 dias (equipe financeira)\n",
    "\n",
    "'''\n",
    "\n",
    "tabela = tabela[tabela[\"duracao_contrato\"]!=\"Monthly\"]     # tabela = tabela[condicao]\n",
    "tabela = tabela[tabela[\"ligacoes_callcenter\"]<=4]\n",
    "tabela = tabela[tabela[\"dias_atraso\"]<=20]\n",
    "\n",
    "\n",
    "display(tabela[\"cancelou\"].value_counts())\n",
    "\n",
    "# em percentual\n",
    "\n",
    "display(tabela[\"cancelou\"].value_counts(normalize=True))\n",
    "\n"
   ]
  }
 ],
 "metadata": {
  "kernelspec": {
   "display_name": "Python 3",
   "language": "python",
   "name": "python3"
  },
  "language_info": {
   "codemirror_mode": {
    "name": "ipython",
    "version": 3
   },
   "file_extension": ".py",
   "mimetype": "text/x-python",
   "name": "python",
   "nbconvert_exporter": "python",
   "pygments_lexer": "ipython3",
   "version": "3.12.0"
  }
 },
 "nbformat": 4,
 "nbformat_minor": 2
}
